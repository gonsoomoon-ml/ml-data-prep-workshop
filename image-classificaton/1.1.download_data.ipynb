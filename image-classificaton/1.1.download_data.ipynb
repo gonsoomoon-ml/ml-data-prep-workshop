{
 "cells": [
  {
   "cell_type": "markdown",
   "metadata": {},
   "source": [
    "# [모듈 1.1] 데이터세트 다운로드 및 결합(1/4부)\n",
    "**다운로드** | 구조 | 전처리 | 기차 모델\n",
    "\n",
    "**참고**: 이 노트북은 ml.t3.xlarge 인스턴스에서 실행하는 것이 가장 좋습니다. 데이터 세트를 다운로드하는 동안 네트워크 오류가 발생하거나 메모리 부족 오류가 발생하면 사용 중인 인스턴스 크기를 늘려야 할 수 있습니다."
   ]
  },
  {
   "cell_type": "markdown",
   "metadata": {},
   "source": [
    "## COCO 및 CIFAR 데이터 세트\n",
    "___\n",
    "- 이 노트북은 두 가지 유형의 데이터 세트로 작업하는 방법을 배울겁니다.\n",
    "    - 이 노트북 시리즈의 경우 [COCO 데이터 세트](https://cocodataset.org) 및 [CIFAR-10 데이터 세트](https://www.cs.toronto.edu/~kriz/cifar.html)에서 이미지를 샘플링합니다. 이 시리즈의 노트북을 시작하기 전에 각 데이터 세트 웹사이트를 탐색하여 데이터에 익숙해지는 것이 좋습니다. \n",
    "- 둘 다 이미지 데이터 세트이지만 형식이 매우 다릅니다. \n",
    "    - COCO 데이터 세트\n",
    "        - 딥 러닝을 위해 특별히 형식이 지정되거나 크기가 조정되지 않은 Flickr의 이미지가 포함되어 있습니다.\n",
    "        - <font color=\"red\">즉 딥 러닝을 위해서 어떠한 사전 작업이 되어 있지 않습니다. 이 노트북에서 딥 러닝을 위해 원본 이미지의 처리 작업을 배웁니다.</font>\n",
    "    - CIFAR-10 데이터 세트\n",
    "        - <font color=\"red\">반면에 CIFAR-10 이미지는 자르기, 크기 조정 및 벡터화 등의 딥 러닝을 위해 특별히 사전 처리가 되어 있습니다.</font>"
   ]
  },
  {
   "cell_type": "markdown",
   "metadata": {},
   "source": [
    "<table align=\"left\">\n",
    "  <tr>\n",
    "    <td>COCO Dataset\n",
    "    </td>\n",
    "    <td>Cifar-10 Dataset\n",
    "    </td>\n",
    "  </tr>    \n",
    "  <tr>\n",
    "    <td>\n",
    "      <img src=\"img/coco.png\" style=\"float:left; width:300px; height:150px;\">\n",
    "    </td>\n",
    "    <td>\n",
    "      <img src=\"img/cifar-10.png\" style=\"float:left; width:300px; height:150px;\">\n",
    "    </td>      \n",
    "  </tr>\n",
    "</table>  \n"
   ]
  },
  {
   "cell_type": "markdown",
   "metadata": {},
   "source": [
    "# 노트북 요약\n",
    "---\n",
    "\n",
    "실제 현업에서 이미지 데이터를 전처리하는 상황을 시뮬레이셔 하기 위해서 아래와 같은 작업을 수행 합니다.\n",
    "- COCO 데이터 세트 매니페스트(manifest 파일)를 사용하여 10개 동물 카테고리 대한 이미지만을 다운로드합니다. (10개의 동물 카테고리)\n",
    "- 그런 다음 CIFAR 데이터 세트에서 개구리 이미지를 다운로드하여 COCO 동물 이미지에 추가합니다. (총 11개의 동물 카테고리)\n",
    "- 결론적으로 필요한 이미지를 로컬에 다운로드 받고, 주석 정보 (이미지 파일 경로 및 레이블 등)를 생성 합니다.\n",
    "\n"
   ]
  },
  {
   "cell_type": "markdown",
   "metadata": {},
   "source": [
    "## Overview\n",
    "\n",
    "1. COCO 데이터 세트의 주석 (annotations) 을 다운로드 및 확인\n",
    "2. 전체 주석에서 \"동물\" 주석만 추출\n",
    "3. 레이블 및 파일 경로 정보 결합\n",
    "4. 데이터세트 샘플링\n",
    "5. 이미지 파일을 병렬로 다운로드 (약 2분 소요)\n",
    "6. CIFAR-10 개구리 데이터와 결합\n",
    "7. 개구리 주석을 기존의 coco 2500개의  주석 (`sample_annos`) 에 추가\n",
    "8. 최종 주석을 피클 파일로 저장"
   ]
  },
  {
   "cell_type": "markdown",
   "metadata": {},
   "source": [
    "<pre>\n",
    "</pre>"
   ]
  },
  {
   "cell_type": "markdown",
   "metadata": {},
   "source": [
    "# 0. 환경 설정"
   ]
  },
  {
   "cell_type": "code",
   "execution_count": 1,
   "metadata": {},
   "outputs": [],
   "source": [
    "import json\n",
    "import pickle\n",
    "import shutil\n",
    "import urllib\n",
    "import pathlib\n",
    "import tarfile\n",
    "import numpy as np\n",
    "from pathlib import Path\n",
    "import matplotlib.pyplot as plt\n",
    "from imageio import imread, imwrite"
   ]
  },
  {
   "cell_type": "markdown",
   "metadata": {},
   "source": [
    "파이썬 라이브러리를 로딩시에 재로딩을 하는 코드 입니다."
   ]
  },
  {
   "cell_type": "code",
   "execution_count": 2,
   "metadata": {},
   "outputs": [],
   "source": [
    "%load_ext autoreload\n",
    "%autoreload 2"
   ]
  },
  {
   "cell_type": "markdown",
   "metadata": {},
   "source": [
    "\n",
    "# 1. COCO 데이터 세트의 주석 (annotations) 을 다운로드 및 확인\n",
    "____\n",
    "- 데이터세트 주석 파일에는 클래스, 슈퍼클래스, 파일 이름 및 파일을 다운로드할 URL과 같은 이미지에 대한 정보가 포함되어 있습니다. \n",
    "- 참고로 COCO 데이터 세트에 대한 주석만 약 242MB입니다."
   ]
  },
  {
   "cell_type": "markdown",
   "metadata": {},
   "source": [
    "주석을 다운로드 받고, 압축을 해제 합니다."
   ]
  },
  {
   "cell_type": "code",
   "execution_count": 3,
   "metadata": {},
   "outputs": [],
   "source": [
    "anno_url = \"http://images.cocodataset.org/annotations/annotations_trainval2017.zip\"\n",
    "urllib.request.urlretrieve(anno_url, \"coco-annotations.zip\");"
   ]
  },
  {
   "cell_type": "code",
   "execution_count": 4,
   "metadata": {},
   "outputs": [],
   "source": [
    "shutil.unpack_archive(\"coco-annotations.zip\")"
   ]
  },
  {
   "cell_type": "markdown",
   "metadata": {},
   "source": [
    "## 주석 (annotations) Json 을 로딩\n",
    "\n",
    "훈련 및 검증 주석은 Json 형식으로 되어 있습니다. 파일을 각각 로딩 하겠습니다. "
   ]
  },
  {
   "cell_type": "code",
   "execution_count": 5,
   "metadata": {},
   "outputs": [],
   "source": [
    "with open(\"annotations/instances_train2017.json\", \"r\") as f:\n",
    "    train_metadata = json.load(f)\n",
    "\n",
    "with open(\"annotations/instances_val2017.json\", \"r\") as f:\n",
    "    val_metadata = json.load(f)"
   ]
  },
  {
   "cell_type": "markdown",
   "metadata": {},
   "source": [
    "## 이미지 파일의 주석에 대한 내용 확인\n",
    "- 아미지 ID 및 원본 이미지 경로 및 coco 경로가 있습니다."
   ]
  },
  {
   "cell_type": "code",
   "execution_count": 6,
   "metadata": {},
   "outputs": [
    {
     "data": {
      "text/plain": [
       "[{'license': 3,\n",
       "  'file_name': '000000391895.jpg',\n",
       "  'coco_url': 'http://images.cocodataset.org/train2017/000000391895.jpg',\n",
       "  'height': 360,\n",
       "  'width': 640,\n",
       "  'date_captured': '2013-11-14 11:18:45',\n",
       "  'flickr_url': 'http://farm9.staticflickr.com/8186/8119368305_4e622c8349_z.jpg',\n",
       "  'id': 391895},\n",
       " {'license': 4,\n",
       "  'file_name': '000000522418.jpg',\n",
       "  'coco_url': 'http://images.cocodataset.org/train2017/000000522418.jpg',\n",
       "  'height': 480,\n",
       "  'width': 640,\n",
       "  'date_captured': '2013-11-14 11:38:44',\n",
       "  'flickr_url': 'http://farm1.staticflickr.com/1/127244861_ab0c0381e7_z.jpg',\n",
       "  'id': 522418}]"
      ]
     },
     "execution_count": 6,
     "metadata": {},
     "output_type": "execute_result"
    }
   ],
   "source": [
    "train_metadata['images'][0:2]"
   ]
  },
  {
   "cell_type": "markdown",
   "metadata": {},
   "source": [
    "전체 훈련 및 검증에 대한 이미지의 갯수\n"
   ]
  },
  {
   "cell_type": "code",
   "execution_count": 7,
   "metadata": {},
   "outputs": [
    {
     "name": "stdout",
     "output_type": "stream",
     "text": [
      "# of images in train_metadata:  118287\n",
      "# of images in val_metadata:  5000\n"
     ]
    }
   ],
   "source": [
    "print(\"# of images in train_metadata: \" , len(train_metadata['images']))\n",
    "print(\"# of images in val_metadata: \" , len(val_metadata['images']))"
   ]
  },
  {
   "cell_type": "markdown",
   "metadata": {},
   "source": [
    "## 주석 레이블 종류\n",
    "- 주석 레이블에는 Segmentation, 바운딩박스, Category ID, Image_id 의 정보가 있습니다.\n",
    "    - 우리는 `이미지 분류` 작업을 위해서 Category ID 를 이용할 겁니다."
   ]
  },
  {
   "cell_type": "code",
   "execution_count": 8,
   "metadata": {},
   "outputs": [
    {
     "name": "stdout",
     "output_type": "stream",
     "text": [
      "{'segmentation': [[239.97, 260.24, 222.04, 270.49, 199.84, 253.41, 213.5, 227.79, 259.62, 200.46, 274.13, 202.17, 277.55, 210.71, 249.37, 253.41, 237.41, 264.51, 242.54, 261.95, 228.87, 271.34]], 'area': 2765.1486500000005, 'iscrowd': 0, 'image_id': 558840, 'bbox': [199.84, 200.46, 77.71, 70.88], 'category_id': 58, 'id': 156}\n"
     ]
    }
   ],
   "source": [
    "for a in train_metadata['annotations']:\n",
    "    print(a)\n",
    "    break"
   ]
  },
  {
   "cell_type": "markdown",
   "metadata": {},
   "source": [
    "## 전체 이미지의 카테고리 확인\n",
    "카테고리 구조를 파악할 수 있습니다."
   ]
  },
  {
   "cell_type": "code",
   "execution_count": 9,
   "metadata": {},
   "outputs": [
    {
     "data": {
      "text/plain": [
       "[{'supercategory': 'person', 'id': 1, 'name': 'person'},\n",
       " {'supercategory': 'vehicle', 'id': 2, 'name': 'bicycle'},\n",
       " {'supercategory': 'vehicle', 'id': 3, 'name': 'car'},\n",
       " {'supercategory': 'vehicle', 'id': 4, 'name': 'motorcycle'},\n",
       " {'supercategory': 'vehicle', 'id': 5, 'name': 'airplane'},\n",
       " {'supercategory': 'vehicle', 'id': 6, 'name': 'bus'},\n",
       " {'supercategory': 'vehicle', 'id': 7, 'name': 'train'},\n",
       " {'supercategory': 'vehicle', 'id': 8, 'name': 'truck'},\n",
       " {'supercategory': 'vehicle', 'id': 9, 'name': 'boat'},\n",
       " {'supercategory': 'outdoor', 'id': 10, 'name': 'traffic light'},\n",
       " {'supercategory': 'outdoor', 'id': 11, 'name': 'fire hydrant'},\n",
       " {'supercategory': 'outdoor', 'id': 13, 'name': 'stop sign'},\n",
       " {'supercategory': 'outdoor', 'id': 14, 'name': 'parking meter'},\n",
       " {'supercategory': 'outdoor', 'id': 15, 'name': 'bench'},\n",
       " {'supercategory': 'animal', 'id': 16, 'name': 'bird'},\n",
       " {'supercategory': 'animal', 'id': 17, 'name': 'cat'},\n",
       " {'supercategory': 'animal', 'id': 18, 'name': 'dog'},\n",
       " {'supercategory': 'animal', 'id': 19, 'name': 'horse'},\n",
       " {'supercategory': 'animal', 'id': 20, 'name': 'sheep'},\n",
       " {'supercategory': 'animal', 'id': 21, 'name': 'cow'},\n",
       " {'supercategory': 'animal', 'id': 22, 'name': 'elephant'},\n",
       " {'supercategory': 'animal', 'id': 23, 'name': 'bear'},\n",
       " {'supercategory': 'animal', 'id': 24, 'name': 'zebra'},\n",
       " {'supercategory': 'animal', 'id': 25, 'name': 'giraffe'},\n",
       " {'supercategory': 'accessory', 'id': 27, 'name': 'backpack'}]"
      ]
     },
     "execution_count": 9,
     "metadata": {},
     "output_type": "execute_result"
    }
   ],
   "source": [
    "train_metadata[\"categories\"][0:25]"
   ]
  },
  {
   "cell_type": "markdown",
   "metadata": {},
   "source": [
    "전체 카테고리의 개수를 확인 합니다."
   ]
  },
  {
   "cell_type": "code",
   "execution_count": 10,
   "metadata": {},
   "outputs": [
    {
     "name": "stdout",
     "output_type": "stream",
     "text": [
      "# of Categories:  80\n"
     ]
    }
   ],
   "source": [
    "print(\"# of Categories: \" , len(train_metadata[\"categories\"]))"
   ]
  },
  {
   "cell_type": "markdown",
   "metadata": {},
   "source": [
    "\n",
    "# 2. 전체 카테고리 주석에서 \"동물\" 만 추출\n",
    "___\n",
    "이 가이드의 데이터 세트 범위를 제한하기 위해 COCO 데이터 세트의 동물 이미지만 사용합니다."
   ]
  },
  {
   "cell_type": "code",
   "execution_count": 11,
   "metadata": {},
   "outputs": [],
   "source": [
    "category_labels = {\n",
    "    c[\"id\"]: c[\"name\"] for c in train_metadata[\"categories\"] if c[\"supercategory\"] == \"animal\"\n",
    "}"
   ]
  },
  {
   "cell_type": "code",
   "execution_count": 12,
   "metadata": {},
   "outputs": [
    {
     "data": {
      "text/plain": [
       "{16: 'bird',\n",
       " 17: 'cat',\n",
       " 18: 'dog',\n",
       " 19: 'horse',\n",
       " 20: 'sheep',\n",
       " 21: 'cow',\n",
       " 22: 'elephant',\n",
       " 23: 'bear',\n",
       " 24: 'zebra',\n",
       " 25: 'giraffe'}"
      ]
     },
     "execution_count": 12,
     "metadata": {},
     "output_type": "execute_result"
    }
   ],
   "source": [
    "category_labels"
   ]
  },
  {
   "cell_type": "markdown",
   "metadata": {},
   "source": [
    "## 레이블 추출 (이미지 ID 와 카테고리 ID 추출)\n",
    "\n",
    "```\n",
    "<Image ID> {category_id: <ID>} 형식으로 추출 합니다.\n",
    "예: 495357 {'category_id': 18}\n",
    "```\n"
   ]
  },
  {
   "cell_type": "code",
   "execution_count": 13,
   "metadata": {},
   "outputs": [
    {
     "name": "stdout",
     "output_type": "stream",
     "text": [
      "495357 {'category_id': 18}\n",
      "116061 {'category_id': 18}\n",
      "16164 {'category_id': 18}\n"
     ]
    }
   ],
   "source": [
    "train_annos = {}\n",
    "for a in train_metadata[\"annotations\"]:\n",
    "    if a[\"category_id\"] in category_labels:\n",
    "        train_annos[a[\"image_id\"]] = {\"category_id\": a[\"category_id\"]}\n",
    "\n",
    "\n",
    "from src.m_utils import show_dic_items     \n",
    "            \n",
    "show_dic_items(train_annos)      \n",
    "# print(len(train_annos))"
   ]
  },
  {
   "cell_type": "markdown",
   "metadata": {},
   "source": [
    "## 이미지 정보 추출 (이미지 ID, 이미지 URL, 파일 이름 추출)\n",
    "\n",
    "```\n",
    "<Image ID> {'coco_url': <URL>, 'file_name': <File Name} 으로 추출 합니다.\n",
    "\n",
    "예: 391895 {'coco_url': 'http://images.cocodataset.org/train2017/000000391895.jpg', 'file_name': '000000391895.jpg'}\n",
    "```\n",
    "- 훈련 및 검증 데이터 세트에 반복 합니다."
   ]
  },
  {
   "cell_type": "code",
   "execution_count": 14,
   "metadata": {},
   "outputs": [
    {
     "name": "stdout",
     "output_type": "stream",
     "text": [
      "391895 {'coco_url': 'http://images.cocodataset.org/train2017/000000391895.jpg', 'file_name': '000000391895.jpg'}\n",
      "522418 {'coco_url': 'http://images.cocodataset.org/train2017/000000522418.jpg', 'file_name': '000000522418.jpg'}\n",
      "184613 {'coco_url': 'http://images.cocodataset.org/train2017/000000184613.jpg', 'file_name': '000000184613.jpg'}\n",
      "None\n"
     ]
    }
   ],
   "source": [
    "train_images = {}\n",
    "for i in train_metadata[\"images\"]:\n",
    "    train_images[i[\"id\"]] = {\"coco_url\": i[\"coco_url\"], \"file_name\": i[\"file_name\"]}\n",
    "\n",
    "print(show_dic_items(train_images))     "
   ]
  },
  {
   "cell_type": "code",
   "execution_count": 15,
   "metadata": {},
   "outputs": [],
   "source": [
    "val_annos = {}\n",
    "for a in val_metadata[\"annotations\"]:\n",
    "    if a[\"category_id\"] in category_labels:\n",
    "        val_annos[a[\"image_id\"]] = {\"category_id\": a[\"category_id\"]}\n",
    "\n",
    "val_images = {}\n",
    "for i in val_metadata[\"images\"]:\n",
    "    val_images[i[\"id\"]] = {\"coco_url\": i[\"coco_url\"], \"file_name\": i[\"file_name\"]}"
   ]
  },
  {
   "cell_type": "markdown",
   "metadata": {},
   "source": [
    "# 3. 레이블 및 이미지 파일 경로 정보 결합\n",
    "\n",
    "- 레이블 및 이미지 파일 경로를 결합하여 이미지의 모든 주석 정보를 만듭니다."
   ]
  },
  {
   "cell_type": "markdown",
   "metadata": {},
   "source": [
    "아래와 같이 기존의 이미지 ID, 카테고리 ID에 추가적으로 이미지 경로를 추가 합니다.\n",
    "```\n",
    "495357 {'category_id': 18}\n",
    "--> \n",
    "495357 {'category_id': 18, 'coco_url': 'http://images.cocodataset.org/train2017/000000495357.jpg', 'file_name': '000000495357.jpg'}\n",
    "```"
   ]
  },
  {
   "cell_type": "markdown",
   "metadata": {},
   "source": [
    "이미지의 레이블 정보 확인 합니다."
   ]
  },
  {
   "cell_type": "code",
   "execution_count": 16,
   "metadata": {},
   "outputs": [
    {
     "name": "stdout",
     "output_type": "stream",
     "text": [
      "495357 {'category_id': 18}\n",
      "116061 {'category_id': 18}\n",
      "16164 {'category_id': 18}\n"
     ]
    }
   ],
   "source": [
    "show_dic_items(train_annos)"
   ]
  },
  {
   "cell_type": "markdown",
   "metadata": {},
   "source": [
    "이미지의 레이블 정보와 파일 경로를 결합 합니다."
   ]
  },
  {
   "cell_type": "code",
   "execution_count": 17,
   "metadata": {},
   "outputs": [],
   "source": [
    "for id, anno in train_annos.items():\n",
    "    anno.update(train_images[id])\n",
    "\n",
    "for id, anno in val_annos.items():\n",
    "    anno.update(val_images[id])"
   ]
  },
  {
   "cell_type": "markdown",
   "metadata": {},
   "source": [
    "결합한 내용 확인하기"
   ]
  },
  {
   "cell_type": "code",
   "execution_count": 18,
   "metadata": {},
   "outputs": [
    {
     "name": "stdout",
     "output_type": "stream",
     "text": [
      "495357 {'category_id': 18, 'coco_url': 'http://images.cocodataset.org/train2017/000000495357.jpg', 'file_name': '000000495357.jpg'}\n",
      "116061 {'category_id': 18, 'coco_url': 'http://images.cocodataset.org/train2017/000000116061.jpg', 'file_name': '000000116061.jpg'}\n",
      "16164 {'category_id': 18, 'coco_url': 'http://images.cocodataset.org/train2017/000000016164.jpg', 'file_name': '000000016164.jpg'}\n"
     ]
    }
   ],
   "source": [
    "show_dic_items(train_annos)"
   ]
  },
  {
   "cell_type": "markdown",
   "metadata": {},
   "source": [
    "## 훈련과 검증 데이터 세트를 결합\n",
    "- 현재의 훈련과 검증 데이터 세트의 2 분할을 3분할인 훈련, 검증, 테스트 데이터 세트로 만들기 위해 일단 합칩니다."
   ]
  },
  {
   "cell_type": "code",
   "execution_count": 19,
   "metadata": {},
   "outputs": [],
   "source": [
    "all_annos = {}\n",
    "for k, v in train_annos.items():\n",
    "    all_annos.update({k: v})\n",
    "for k, v in val_annos.items():\n",
    "    all_annos.update({k: v})"
   ]
  },
  {
   "cell_type": "code",
   "execution_count": 20,
   "metadata": {},
   "outputs": [
    {
     "name": "stdout",
     "output_type": "stream",
     "text": [
      "495357 {'category_id': 18, 'coco_url': 'http://images.cocodataset.org/train2017/000000495357.jpg', 'file_name': '000000495357.jpg'}\n",
      "116061 {'category_id': 18, 'coco_url': 'http://images.cocodataset.org/train2017/000000116061.jpg', 'file_name': '000000116061.jpg'}\n",
      "16164 {'category_id': 18, 'coco_url': 'http://images.cocodataset.org/train2017/000000016164.jpg', 'file_name': '000000016164.jpg'}\n",
      "None\n"
     ]
    }
   ],
   "source": [
    "print(show_dic_items(all_annos))     "
   ]
  },
  {
   "cell_type": "markdown",
   "metadata": {},
   "source": [
    "# 4. 데이터세트 샘플링\n",
    "___\n",
    "- 데이터 작업을 더 쉽게 하기 위해 각 카테고리에서 무작위로 250개의 이미지를 선택합니다. \n",
    "    - 카테고리 당 250개. 10개의 카테고리여서 최종 2500 개가 됩니다.\n",
    "    - 이것은 데이터 세트의 작은 부분이지만 전이 학습(Transfer Learning)을 사용하기에는 적당한 사이즈 입니다. \n",
    "- 이를 실행할 때마다 동일한 이미지 세트를 얻을 수 있도록 Numpy의 랜덤 시드로 0을 설정합니다.\n"
   ]
  },
  {
   "cell_type": "code",
   "execution_count": 21,
   "metadata": {},
   "outputs": [],
   "source": [
    "np.random.seed(0)"
   ]
  },
  {
   "cell_type": "code",
   "execution_count": 22,
   "metadata": {},
   "outputs": [],
   "source": [
    "sample_annos = {} # 샘플링을 한 주석 정보를 담을 변수를 선언 합니다.\n",
    "\n",
    "for category_id in category_labels:\n",
    "    subset = [k for k, v in all_annos.items() if v[\"category_id\"] == category_id]\n",
    "    sample = np.random.choice(subset, size=250, replace=False)\n",
    "    for k in sample:\n",
    "        sample_annos[k] = all_annos[k]"
   ]
  },
  {
   "cell_type": "code",
   "execution_count": 23,
   "metadata": {},
   "outputs": [
    {
     "name": "stdout",
     "output_type": "stream",
     "text": [
      "442968 {'category_id': 16, 'coco_url': 'http://images.cocodataset.org/train2017/000000442968.jpg', 'file_name': '000000442968.jpg'}\n",
      "121193 {'category_id': 16, 'coco_url': 'http://images.cocodataset.org/train2017/000000121193.jpg', 'file_name': '000000121193.jpg'}\n",
      "192160 {'category_id': 16, 'coco_url': 'http://images.cocodataset.org/train2017/000000192160.jpg', 'file_name': '000000192160.jpg'}\n",
      "None\n",
      "2500\n"
     ]
    }
   ],
   "source": [
    "print(show_dic_items(sample_annos))     \n",
    "print(len(sample_annos))     "
   ]
  },
  {
   "cell_type": "markdown",
   "metadata": {},
   "source": [
    "# 5. 이미지 URL을 통해 이미지를 병렬로 다운로드 (약 2분 소요)\n",
    "- 다중 스레딩을 위한 함수 정의\n",
    "- 이미지 저장 폴더 생성\n",
    "- 이미지 다운로드를 병렬화화를 위한 Worker Thread 개수 정의\n",
    "    - 예시로 20을 설정할 수 있고, 에러 발생시에 수치를 낮추시기 바랍니다.\n",
    "- joblib로 다중 스레딩을 위한 함수 실행"
   ]
  },
  {
   "cell_type": "code",
   "execution_count": 24,
   "metadata": {},
   "outputs": [],
   "source": [
    "def download_image(url, path):\n",
    "    data = imread(url)\n",
    "    imwrite(path / url.split(\"/\")[-1], data)"
   ]
  },
  {
   "cell_type": "code",
   "execution_count": 25,
   "metadata": {},
   "outputs": [],
   "source": [
    "sample_dir = pathlib.Path(\"data_sample_2500\")\n",
    "sample_dir.mkdir(exist_ok=True)\n",
    "num_workers = 20 # 에러 발생시 줄이세요."
   ]
  },
  {
   "cell_type": "code",
   "execution_count": 26,
   "metadata": {},
   "outputs": [
    {
     "name": "stderr",
     "output_type": "stream",
     "text": [
      "[Parallel(n_jobs=20)]: Using backend ThreadingBackend with 20 concurrent workers.\n",
      "[Parallel(n_jobs=20)]: Done  88 tasks      | elapsed:    4.6s\n",
      "[Parallel(n_jobs=20)]: Done 248 tasks      | elapsed:   12.0s\n",
      "[Parallel(n_jobs=20)]: Done 472 tasks      | elapsed:   22.1s\n",
      "[Parallel(n_jobs=20)]: Done 760 tasks      | elapsed:   35.7s\n",
      "[Parallel(n_jobs=20)]: Done 1112 tasks      | elapsed:   53.4s\n",
      "[Parallel(n_jobs=20)]: Done 1528 tasks      | elapsed:  1.2min\n",
      "[Parallel(n_jobs=20)]: Done 2008 tasks      | elapsed:  1.7min\n"
     ]
    },
    {
     "name": "stdout",
     "output_type": "stream",
     "text": [
      "CPU times: user 52.3 s, sys: 3.3 s, total: 55.6 s\n",
      "Wall time: 2min 3s\n"
     ]
    },
    {
     "name": "stderr",
     "output_type": "stream",
     "text": [
      "[Parallel(n_jobs=20)]: Done 2500 out of 2500 | elapsed:  2.1min finished\n"
     ]
    }
   ],
   "source": [
    "%%time\n",
    "from joblib import Parallel, delayed, parallel_backend\n",
    "\n",
    "with parallel_backend(\"threading\", n_jobs=num_workers):\n",
    "    Parallel(verbose=3)(\n",
    "        delayed(download_image)(a[\"coco_url\"], sample_dir) for a in sample_annos.values()\n",
    "    )"
   ]
  },
  {
   "cell_type": "markdown",
   "metadata": {},
   "source": [
    "<pre>\n",
    "</pre>"
   ]
  },
  {
   "cell_type": "markdown",
   "metadata": {},
   "source": [
    "# 6. CIFAR-10 개구리 데이터와 결합\n",
    "___\n",
    "- COCO 데이터 세트에는 개구리 이미지가 포함되어 있지 않지만 모델이 개구리 이미지에 레이블을 지정할 수도 있어야 한다고 가정해 보겠습니다. \n",
    "- 이 문제를 해결하기 위해 개구리가 포함된 다른 이미지 데이터 세트를 다운로드하고 250개의 개구리 이미지를 샘플링하여 기존 이미지 데이터에 추가할 수 있습니다. \n",
    "- CIFAR-10 이미지는 훨씬 작기 때문에(32x32) 크기를 (244x244)로 늘리면 픽셀화되고 흐릿하게 나타납니다. \n",
    "- CIFAR-10 데이터 세트는 COCO 데이터 세트와 매우 다른 방식으로 형식이 지정됩니다. COCO 이미지와 일치하도록 CIFAR-10 데이터를 개별 이미지 파일로 처리 합니다."
   ]
  },
  {
   "cell_type": "markdown",
   "metadata": {},
   "source": [
    "## CIFAR-10 dataset 다운로드 및 추출"
   ]
  },
  {
   "cell_type": "code",
   "execution_count": 29,
   "metadata": {},
   "outputs": [
    {
     "name": "stdout",
     "output_type": "stream",
     "text": [
      "--2021-12-25 14:47:43--  https://www.cs.toronto.edu/~kriz/cifar-10-python.tar.gz\n",
      "Resolving www.cs.toronto.edu (www.cs.toronto.edu)... 128.100.3.30\n",
      "Connecting to www.cs.toronto.edu (www.cs.toronto.edu)|128.100.3.30|:443... connected.\n",
      "HTTP request sent, awaiting response... 200 OK\n",
      "Length: 170498071 (163M) [application/x-gzip]\n",
      "Saving to: ‘cifar-10-python.tar.gz.2’\n",
      "\n",
      "cifar-10-python.tar 100%[===================>] 162.60M  15.9MB/s    in 12s     \n",
      "\n",
      "2021-12-25 14:47:55 (13.8 MB/s) - ‘cifar-10-python.tar.gz.2’ saved [170498071/170498071]\n",
      "\n"
     ]
    }
   ],
   "source": [
    "!wget --no-check-certificate https://www.cs.toronto.edu/~kriz/cifar-10-python.tar.gz\n",
    "#!wget https://www.cs.toronto.edu/%7Ekriz/cifar-10-python.tar.gz"
   ]
  },
  {
   "cell_type": "code",
   "execution_count": 30,
   "metadata": {},
   "outputs": [],
   "source": [
    "tf = tarfile.open(\"cifar-10-python.tar.gz\")\n",
    "tf.extractall()"
   ]
  },
  {
   "cell_type": "markdown",
   "metadata": {},
   "source": [
    "## CIFAR-10 데이터 세트의 첫 번째 배치 열기\n",
    "- CIFAR-10 데이터 세트는 5개의 훈련 배치와 1개의 테스트 배치로 제공됩니다. \n",
    "- 각 훈련 배치에는 10,000개의 무작위로 정렬된 이미지가 있습니다. 데이터 세트에 250개의 개구리 이미지만 필요하므로 첫 번째 배치에서만 가져옵니다."
   ]
  },
  {
   "cell_type": "code",
   "execution_count": 31,
   "metadata": {},
   "outputs": [],
   "source": [
    "with open(\"./cifar-10-batches-py/data_batch_1\", \"rb\") as f:\n",
    "    batch_1 = pickle.load(f, encoding=\"bytes\")"
   ]
  },
  {
   "cell_type": "code",
   "execution_count": 32,
   "metadata": {},
   "outputs": [],
   "source": [
    "image_data = batch_1[b\"data\"]"
   ]
  },
  {
   "cell_type": "markdown",
   "metadata": {},
   "source": [
    "#### 이미지 정보\n",
    "- 10000개의 이미지가 존재하고, 가로(32) X 세로(32) X 채널(3) = 3,072 의 픽셀 데이타가 존재 합니다."
   ]
  },
  {
   "cell_type": "code",
   "execution_count": 33,
   "metadata": {},
   "outputs": [
    {
     "name": "stdout",
     "output_type": "stream",
     "text": [
      "\n",
      "Image Shape:  (10000, 3072) \n",
      "\n",
      "[[ 59  43  50 ... 140  84  72]\n",
      " [154 126 105 ... 139 142 144]\n",
      " [255 253 253 ...  83  83  84]\n",
      " ...\n",
      " [ 71  60  74 ...  68  69  68]\n",
      " [250 254 211 ... 215 255 254]\n",
      " [ 62  61  60 ... 130 130 131]]\n"
     ]
    }
   ],
   "source": [
    "print(\"\\nImage Shape: \", image_data.shape, \"\\n\")\n",
    "print(image_data)\n"
   ]
  },
  {
   "cell_type": "markdown",
   "metadata": {},
   "source": [
    "## 250 개구리 이미지 샘플링\n",
    "- 개구리의 레이블 \"6\" 인 개구리 인덱스 추출\n",
    "- 랜덤하게 250개의 인덱스 추출\n",
    "- 250개의 인덱스에 해당되는 이미지 데이터 추출\n",
    "- 개구리 이미지 데이터를 [250, 32, 32, 3] 으로 재구성"
   ]
  },
  {
   "cell_type": "code",
   "execution_count": 34,
   "metadata": {},
   "outputs": [
    {
     "data": {
      "text/plain": [
       "(250, 32, 32, 3)"
      ]
     },
     "execution_count": 34,
     "metadata": {},
     "output_type": "execute_result"
    }
   ],
   "source": [
    "frog_indices = np.array(batch_1[b\"labels\"]) == 6 # 6 == 개구리\n",
    "sample_frog_indices = np.random.choice(frog_indices.nonzero()[0], size=250, replace=False) # 랜덤으로 250개 개구리 인텍스 추출\n",
    "sample_data = image_data[sample_frog_indices, :]\n",
    "frog_images = sample_data.reshape(len(sample_data), 3, 32, 32).transpose(0, 2, 3, 1) # [250, 32, 32, 3] 으로 재구성\n",
    "frog_images.shape"
   ]
  },
  {
   "cell_type": "markdown",
   "metadata": {},
   "source": [
    "### 개구리 이미지 보기\n",
    "\n",
    "250 개의 이미지에서 랜덤으로 개구리 이미지를 확인 합니다."
   ]
  },
  {
   "cell_type": "code",
   "execution_count": 35,
   "metadata": {},
   "outputs": [
    {
     "data": {
      "image/png": "[encoded data removed]",
      "text/plain": [
       "<Figure size 720x504 with 12 Axes>"
      ]
     },
     "metadata": {
      "needs_background": "light"
     },
     "output_type": "display_data"
    }
   ],
   "source": [
    "fig, axs = plt.subplots(3, 4, figsize=(10, 7))\n",
    "indices = np.random.randint(low=0, high=249, size=12)\n",
    "\n",
    "for i, ax in enumerate(axs.flatten()):\n",
    "    ax.imshow(frog_images[indices[i]])\n",
    "    ax.axis(\"off\")"
   ]
  },
  {
   "cell_type": "markdown",
   "metadata": {},
   "source": [
    "## 개구리 이미지를 추가 하여 data_sample_2750 생성\n",
    "- 개구리 인덱스에 대한 파일 이름을 추출\n",
    "- 파일이름의 확장자를 png --> jpg 로 변경하고, 데이타를 추출하여 data_sample_2500 에 저장 함.\n",
    "- data_sample_2500 폴더를 data_sample_2750 으로 변경"
   ]
  },
  {
   "cell_type": "code",
   "execution_count": 36,
   "metadata": {},
   "outputs": [
    {
     "data": {
      "text/plain": [
       "array([b'leptodactylid_s_000084.png', b'alytes_obstetricans_s_000124.png',\n",
       "       b'spadefoot_s_000247.png'], dtype='|S40')"
      ]
     },
     "execution_count": 36,
     "metadata": {},
     "output_type": "execute_result"
    }
   ],
   "source": [
    "frog_filenames = np.array(batch_1[b\"filenames\"])[sample_frog_indices]\n",
    "frog_filenames[0:3]"
   ]
  },
  {
   "cell_type": "code",
   "execution_count": 37,
   "metadata": {},
   "outputs": [],
   "source": [
    "for idx, filename in enumerate(frog_filenames):\n",
    "    filename = filename.decode()\n",
    "    data = frog_images[idx]\n",
    "    if filename.endswith(\".png\"):\n",
    "        filename = filename.replace(\".png\", \".jpg\")\n",
    "    imwrite(sample_dir / filename, data)"
   ]
  },
  {
   "cell_type": "code",
   "execution_count": 38,
   "metadata": {},
   "outputs": [
    {
     "name": "stdout",
     "output_type": "stream",
     "text": [
      "data_sample_2500 is renamed to data_sample_2750\n"
     ]
    }
   ],
   "source": [
    "import os\n",
    "import shutil\n",
    "new_folder_name = \"data_sample_2750\"\n",
    "\n",
    "if os.path.isdir(new_folder_name): # 폴더가 존재하면 먼저 삭제 함.\n",
    "    shutil.rmtree(new_folder_name)\n",
    "    print(f\"{new_folder_name} is deleted\")\n",
    "    \n",
    "sample_dir.rename(new_folder_name)\n",
    "print(f\"{sample_dir} is renamed to {new_folder_name}\")"
   ]
  },
  {
   "cell_type": "markdown",
   "metadata": {},
   "source": [
    "# 7. 개구리 주석을 기존의 coco 2500개의  주석 (`sample_annos`) 에 추가"
   ]
  },
  {
   "cell_type": "markdown",
   "metadata": {},
   "source": [
    "기존 category_labels 에 26 번으로서 frog 를 추가"
   ]
  },
  {
   "cell_type": "code",
   "execution_count": 39,
   "metadata": {},
   "outputs": [],
   "source": [
    "category_labels[26] = \"frog\""
   ]
  },
  {
   "cell_type": "code",
   "execution_count": 40,
   "metadata": {},
   "outputs": [],
   "source": [
    "# 기존의 coco 2500 개에 해당하는 이미지 ID의 다음 값 부터 이후 값 추출 (Next_ID)\n",
    "next_anno_idx = np.array(list(sample_annos.keys())).max() + 1\n",
    "# Next_ID 부터 250개의 이미지 ID를 생성\n",
    "frog_anno_ids = range(next_anno_idx, next_anno_idx + len(frog_images))"
   ]
  },
  {
   "cell_type": "markdown",
   "metadata": {},
   "source": [
    "기존의 2500개에서 개구리 250개를 카테고리 ID, 파일 이름을 추가 함."
   ]
  },
  {
   "cell_type": "code",
   "execution_count": 41,
   "metadata": {},
   "outputs": [],
   "source": [
    "for idx, frog_id in enumerate(frog_anno_ids):\n",
    "    sample_annos[frog_id] = {\n",
    "        \"category_id\": 26,\n",
    "        \"file_name\": frog_filenames[idx].decode().replace(\".png\", \".jpg\"),\n",
    "    }"
   ]
  },
  {
   "cell_type": "markdown",
   "metadata": {},
   "source": [
    "# 8. 최종 주석을 피클 파일로 저장\n",
    "___\n",
    "- 이것은 이미지 데이터로 딥 러닝 모델을 훈련하기 위한 일련의 가이드 중 첫 번째일 뿐입니다. \n",
    "- 작업이 후속 노트북으로 넘어가도록 하기 위해 아래 두개의 피클 파일을 생성 합니다.\n",
    "    - 데이터세트 주석\n",
    "    - 카테고리 이름"
   ]
  },
  {
   "cell_type": "code",
   "execution_count": 44,
   "metadata": {},
   "outputs": [
    {
     "name": "stdout",
     "output_type": "stream",
     "text": [
      "442968 {'category_id': 16, 'coco_url': 'http://images.cocodataset.org/train2017/000000442968.jpg', 'file_name': '000000442968.jpg'}\n",
      "121193 {'category_id': 16, 'coco_url': 'http://images.cocodataset.org/train2017/000000121193.jpg', 'file_name': '000000121193.jpg'}\n",
      "192160 {'category_id': 16, 'coco_url': 'http://images.cocodataset.org/train2017/000000192160.jpg', 'file_name': '000000192160.jpg'}\n",
      "None\n"
     ]
    }
   ],
   "source": [
    "print(show_dic_items(sample_annos))     "
   ]
  },
  {
   "cell_type": "code",
   "execution_count": 45,
   "metadata": {},
   "outputs": [
    {
     "name": "stdout",
     "output_type": "stream",
     "text": [
      "16 bird\n",
      "17 cat\n",
      "18 dog\n",
      "19 horse\n",
      "20 sheep\n",
      "21 cow\n",
      "22 elephant\n",
      "23 bear\n",
      "24 zebra\n",
      "25 giraffe\n",
      "26 frog\n",
      "None\n"
     ]
    }
   ],
   "source": [
    "print(show_dic_items(category_labels,11))     "
   ]
  },
  {
   "cell_type": "code",
   "execution_count": 46,
   "metadata": {},
   "outputs": [],
   "source": [
    "pickled_dir = pathlib.Path(\"./pickled_data\")\n",
    "pickled_dir.mkdir(exist_ok=True)\n",
    "\n",
    "with open(\"pickled_data/sample_annos.pickle\", \"wb\") as f:\n",
    "    pickle.dump(sample_annos, f)\n",
    "\n",
    "with open(\"./pickled_data/category_labels.pickle\", \"wb\") as f:\n",
    "    pickle.dump(category_labels, f)"
   ]
  },
  {
   "cell_type": "code",
   "execution_count": null,
   "metadata": {},
   "outputs": [],
   "source": []
  }
 ],
 "metadata": {
  "kernelspec": {
   "display_name": "conda_python3",
   "language": "python",
   "name": "conda_python3"
  },
  "language_info": {
   "codemirror_mode": {
    "name": "ipython",
    "version": 3
   },
   "file_extension": ".py",
   "mimetype": "text/x-python",
   "name": "python",
   "nbconvert_exporter": "python",
   "pygments_lexer": "ipython3",
   "version": "3.6.13"
  }
 },
 "nbformat": 4,
 "nbformat_minor": 4
}
